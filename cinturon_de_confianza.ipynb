{
 "cells": [
  {
   "cell_type": "markdown",
   "metadata": {},
   "source": [
    "# Herramienta para la construcción de cinturones de confianza frecuentista"
   ]
  },
  {
   "cell_type": "markdown",
   "metadata": {},
   "source": [
    "\n",
    "## Parte A\n",
    "\n",
    "1. Generar $n$ números aleatorios $x_i$ con distribución exponencial con un valor dado de $\\tau$ y calcular un estadístico $t$ igual al promedio de los $x_i$."
   ]
  },
  {
   "cell_type": "markdown",
   "metadata": {},
   "source": [
    "2. Repetir el punto anterior, un numero $N_{experimentos}$ de veces y guardar el valor del estadístico $t$ obtenido cada vez en un histograma."
   ]
  },
  {
   "cell_type": "markdown",
   "metadata": {},
   "source": [
    "3. Para ese histograma, encontrar un valor de $t_{min}$ y $t_{max}$ tal que entre ellos se encuentre una fracción CL del total de los eventos."
   ]
  },
  {
   "cell_type": "markdown",
   "metadata": {},
   "source": [
    "4. Repetir los tres puntos anteriores para 100 valores de $\\tau$ entre $0$ y $10$ y graficar el cinturón de confianza en el plano $\\tau$ vs $t$."
   ]
  },
  {
   "cell_type": "markdown",
   "metadata": {},
   "source": [
    "## Parte B\n",
    "\n",
    "Utilizar la herramienta generada en la Parte A para otros dos estadísticos:"
   ]
  },
  {
   "cell_type": "markdown",
   "metadata": {},
   "source": [
    "1. la mediana "
   ]
  },
  {
   "cell_type": "markdown",
   "metadata": {},
   "source": [
    "2. $t = \\sum_i (x_i + x_i**2 + x_i**3 + x_i**4)$"
   ]
  },
  {
   "cell_type": "markdown",
   "metadata": {},
   "source": [
    "## Parte C\n",
    "Discutir que pasa si como \"estadístico\" $t$ utilizamos el $q$ de Wilks visto en clase. "
   ]
  },
  {
   "cell_type": "markdown",
   "metadata": {},
   "source": [
    "## Parte D\n",
    "Utilizar Wilks para calcular el intervalo de confianza para el parámetro $\\tau$ de la exponencial con un dado CL."
   ]
  },
  {
   "cell_type": "markdown",
   "metadata": {},
   "source": [
    "## Parte E\n",
    "(Opcional) Calcular la cobertura de los intervalos calculados en los ítems anteriores en función del parámetro $\\tau$ "
   ]
  }
 ],
 "metadata": {
  "interpreter": {
   "hash": "2c98b2f5127bb22a7c793cc70443d33b89f06f1ddf2ef78e2fedd647209aac28"
  },
  "kernelspec": {
   "display_name": "Python 3.9.7 64-bit ('mefe': conda)",
   "language": "python",
   "name": "python3"
  },
  "language_info": {
   "codemirror_mode": {
    "name": "ipython",
    "version": 3
   },
   "file_extension": ".py",
   "mimetype": "text/x-python",
   "name": "python",
   "nbconvert_exporter": "python",
   "pygments_lexer": "ipython3",
   "version": "3.9.7"
  },
  "orig_nbformat": 4
 },
 "nbformat": 4,
 "nbformat_minor": 2
}
