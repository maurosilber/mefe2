{
 "cells": [
  {
   "cell_type": "markdown",
   "id": "5c43b276",
   "metadata": {},
   "source": [
    "# Intervalo superior para Poisson con errores sistemáticos"
   ]
  },
  {
   "cell_type": "code",
   "execution_count": 9,
   "id": "e2954b21",
   "metadata": {},
   "outputs": [],
   "source": [
    "import matplotlib.pyplot as plt\n",
    "import numba\n",
    "import numpy as np\n",
    "from scipy.stats import binom, poisson\n",
    "from scipy.optimize import minimize, root_scalar\n",
    "\n",
    "plt.rc(\"figure\", dpi=100)\n"
   ]
  },
  {
   "cell_type": "markdown",
   "id": "92b096f9",
   "metadata": {},
   "source": [
    "El experimento consiste en medir una señal $s$, en presencia de una señal de fondo $b$ y teniendo en cuenta que el detector tiene una eficiencia $e$.\n",
    "\n",
    "La distribución $P(n)$ de la cantidad $n$ de eventos esperada se puede modelar como una Poisson $P(n \\,|\\, \\mu)$ de parámetro $\\mu = e (s + b)$.\n",
    "\n",
    "El fondo y la eficiencia se determinaron en experimentos independientes, donde se observaron $b_{obs}$ eventos para el fondo, y se midieron $e_{obs}$ de $e_{tot}$ para determinar la eficiencia del detector.\n",
    "\n",
    "La verosimilitud del experimento se puede escribir como:\n",
    "\n",
    "$$\\mathcal{L}\\Big(n_{obs}, b_{obs}, e_{obs}, e_{tot} \\,|\\, s, b, e\\Big)\n",
    "= \\text{Poisson}\\Big(n_{obs} \\,|\\, e (s + b)\\Big)\n",
    "+ \\text{Poisson}\\Big(b_{obs} \\,|\\, b\\Big)\n",
    "+ \\text{Binomial}\\Big(e_{obs} \\,|\\, p=e, N=e_{tot} \\Big)\n",
    "$$\n",
    "\n",
    "En el experimento en cuestión, no se observaron eventos, $n = 0$, y queremos dar una cota superior para el parámetro $s$."
   ]
  },
  {
   "cell_type": "markdown",
   "id": "7cb6966f",
   "metadata": {},
   "source": [
    "## Parámetros"
   ]
  },
  {
   "cell_type": "code",
   "execution_count": 10,
   "id": "08d12b77",
   "metadata": {},
   "outputs": [],
   "source": [
    "CL = 0.95\n",
    "s = np.linspace(0, 2.8, 100)\n",
    "\n",
    "# Observado\n",
    "n_obs = 0\n",
    "\n",
    "# Background\n",
    "b_obs = 3\n",
    "\n",
    "# Eficiencia\n",
    "e_obs = 99\n",
    "e_tot = 100\n",
    "\n",
    "# Estimador de la eficiencia\n",
    "e_hat = e_obs / e_tot\n"
   ]
  },
  {
   "cell_type": "markdown",
   "id": "951f57b0",
   "metadata": {},
   "source": [
    "## Método híbrido frecuentista-bayesiano (Cousins-Highland)\n",
    "\n",
    "Una opción consiste en integrar los parámetros *molestos*, $b$ y $e$, utiliznado Bayes:\n",
    "\n",
    "$$ P\\Big(n \\,|\\, s \\Big) \\propto \\int \\mathcal{L}\\Big(n, ... \\,|\\, s, b, e\\Big) \\, \\pi(b) \\, \\pi(e) \\; db \\, de $$\n",
    "\n",
    "Luego, buscamos $s_{max}$ tal que $P(n \\leq n_{obs} \\,|\\, s) = 1 - \\text{CL}$.\n",
    "\n",
    "Para hacer esta integral, utilizamos Monte Carlo, donde vamos tomando muestras de los *priors* para $e$ y $b$."
   ]
  },
  {
   "cell_type": "code",
   "execution_count": 11,
   "id": "b90bed8f",
   "metadata": {
    "lines_to_end_of_cell_marker": 2
   },
   "outputs": [],
   "source": [
    "@numba.njit\n",
    "def sample_n(s, background_dist, efficiency_dist):\n",
    "    \"\"\"Toma muestras de P(n|s) para los dados priors del fondo y la eficiencia.\"\"\"\n",
    "    b = background_dist()\n",
    "    e = efficiency_dist()\n",
    "    mu = e * (s + b)\n",
    "    return np.random.poisson(mu)\n",
    "\n",
    "\n",
    "@np.vectorize\n",
    "@numba.njit(parallel=True)\n",
    "def prob_less_eq(n_obs: int, s: float, *, background_dist, efficiency_dist, n_exp):\n",
    "    count = 0\n",
    "    for _ in numba.prange(n_exp):\n",
    "        if sample_n(s, background_dist, efficiency_dist) <= n_obs:\n",
    "            count += 1\n",
    "    return count / n_exp\n"
   ]
  },
  {
   "cell_type": "markdown",
   "id": "01f08024",
   "metadata": {
    "lines_to_next_cell": 2
   },
   "source": [
    "## Perfilado frecuentista\n",
    "\n",
    "La opción frecuentista consiste en hacer lo que se conoce como perfilado. Se busca el $s_{max}$ utilizando la verosimilitud como si fuese únicamente una función de la señal $s$, mientras que a los parámetros $b$ y $e$ se los evalua en los máximos locales para ese dado $s$:\n",
    "\n",
    "$$ \\mathcal{L}_p(n_{obs} \\,|\\, s) \\equiv \\mathcal{L}\\Big(n_{obs}, ... \\,|\\, s, \\hat{b}(s), \\hat{e}(s)\\Big) $$\n",
    "\n",
    "Luego, normalizando la verosimilitud perfilada, se busca $s_{max}$ tal que\n",
    "\n",
    "$$ \\sum_n^{n_{obs}} \\mathcal{L}_p(n \\,|\\, s_{max}) = CL $$"
   ]
  },
  {
   "cell_type": "code",
   "execution_count": 12,
   "id": "239cd642",
   "metadata": {},
   "outputs": [],
   "source": [
    "def fix_observed(*, b_obs, e_obs, e_tot):\n",
    "    \"\"\"Devuelve el likelihood como función de los parámetros a perfilar\n",
    "    fijando las variables medidas.\n",
    "    \"\"\"\n",
    "\n",
    "    def likelihood(params, s, n_obs):\n",
    "        \"\"\"Log-likelihood del experimento.\n",
    "\n",
    "        Parameters\n",
    "        ----------\n",
    "        params : np.ndarray\n",
    "            (eficiencia, background)\n",
    "        \"\"\"\n",
    "        e, b = params\n",
    "        LL_efficiency = binom.logpmf(e_obs, n=e_tot, p=e)\n",
    "        LL_background = poisson.logpmf(b_obs, mu=b)\n",
    "        LL_experiment = poisson.logpmf(n_obs, mu=e * (s + b))\n",
    "        return -2 * (LL_experiment + LL_background + LL_efficiency)\n",
    "\n",
    "    return likelihood\n",
    "\n",
    "\n",
    "@np.vectorize\n",
    "def probabilidad_perfilado(s, n_obs, likelihood, *, e_0, b_0):\n",
    "    \"\"\"Devuelve la probabilidad del n_obs.\n",
    "\n",
    "    Parameters\n",
    "    ----------\n",
    "    e_0, b_0 : float\n",
    "        Parámetros iniciales para la eficiencia y el fondo.\n",
    "    \"\"\"\n",
    "    # Perfilado\n",
    "    e, b = minimize(\n",
    "        likelihood, (e_0, b_0), args=(s, n_obs), bounds=[(0, 1), (0, np.inf)]\n",
    "    ).x\n",
    "    return poisson.cdf(n_obs, e * (s + b))\n",
    "\n",
    "\n",
    "def upper_limit_perfilado(n_obs, likelihood, *, e_0, b_0, CL):\n",
    "    \"\"\"Calcula el upper limit.\n",
    "\n",
    "    Parameters\n",
    "    ----------\n",
    "    e_0, b_0 : float\n",
    "        Parámetros iniciales para la eficiencia y el fondo.\n",
    "    \"\"\"\n",
    "    alpha = 1 - CL\n",
    "\n",
    "    def prob_CL(s):\n",
    "        prob = probabilidad_perfilado(s, n_obs, likelihood, e_0=e_0, b_0=b_0)\n",
    "        return prob - alpha\n",
    "\n",
    "    return root_scalar(prob_CL, method=\"toms748\", bracket=[0, 10]).root\n"
   ]
  },
  {
   "cell_type": "markdown",
   "id": "9a4c7228",
   "metadata": {},
   "source": [
    "## Comparación\n",
    "\n",
    "Vamos a comparar el *approach* frecuencista por perfilado con el bayesiano, y un tercero bayesiano, donde reemplazamos los posteriors *Gamma* y *Beta* por gaussianas truncadas en 0."
   ]
  },
  {
   "cell_type": "code",
   "execution_count": 13,
   "id": "aa71239f",
   "metadata": {},
   "outputs": [],
   "source": [
    "def fix_parameter(dist, *params):\n",
    "    \"\"\"Fija los parámetros de la distribución.\"\"\"\n",
    "\n",
    "    def sample():\n",
    "        return dist(*params)\n",
    "\n",
    "    return numba.njit(sample)\n",
    "\n",
    "\n",
    "@numba.njit\n",
    "def truncated_gaussian(mu, sigma):\n",
    "    \"\"\"Gaussiana truncada en 0.\"\"\"\n",
    "    while True:\n",
    "        s = np.random.normal(mu, sigma)\n",
    "        if s >= 0:\n",
    "            return s\n"
   ]
  },
  {
   "cell_type": "markdown",
   "id": "17e292dd",
   "metadata": {},
   "source": [
    "### Cálculo perfilado"
   ]
  },
  {
   "cell_type": "code",
   "execution_count": 14,
   "id": "1fb7cc36",
   "metadata": {},
   "outputs": [],
   "source": [
    "likelihood = fix_observed(b_obs=b_obs, e_obs=e_obs, e_tot=e_tot)\n",
    "prob_perfilado = probabilidad_perfilado(s, n_obs, likelihood, e_0=e_hat, b_0=b_obs)\n",
    "upper_lim_perfilado = upper_limit_perfilado(\n",
    "    n_obs, likelihood, e_0=e_hat, b_0=b_obs, CL=CL\n",
    ")\n"
   ]
  },
  {
   "cell_type": "markdown",
   "id": "43b280de",
   "metadata": {},
   "source": [
    "### Cálculo híbrido"
   ]
  },
  {
   "cell_type": "code",
   "execution_count": 15,
   "id": "12892815",
   "metadata": {},
   "outputs": [],
   "source": [
    "n_exp = int(3e5)\n",
    "\n",
    "prob_poisson = prob_less_eq(\n",
    "    n_obs,\n",
    "    s,\n",
    "    background_dist=fix_parameter(np.random.gamma, 1 + b_obs, 1),\n",
    "    efficiency_dist=fix_parameter(np.random.beta, 1 + e_obs, 1 + e_tot - e_obs),\n",
    "    n_exp=n_exp,\n",
    ")\n",
    "upper_lim_poisson = np.interp(1 - CL, prob_poisson[::-1], s[::-1])\n",
    "\n",
    "prob_gaussian = prob_less_eq(\n",
    "    n_obs,\n",
    "    s,\n",
    "    background_dist=fix_parameter(truncated_gaussian, b_obs, np.sqrt(b_obs)),\n",
    "    efficiency_dist=fix_parameter(\n",
    "        truncated_gaussian, e_hat, np.sqrt(e_hat * (1 - e_hat) / e_tot)\n",
    "    ),\n",
    "    n_exp=n_exp,\n",
    ")\n",
    "upper_lim_gauss = np.interp(1 - CL, prob_gaussian[::-1], s[::-1])\n"
   ]
  },
  {
   "cell_type": "markdown",
   "id": "ddde8568",
   "metadata": {},
   "source": [
    "### Grafico"
   ]
  },
  {
   "cell_type": "code",
   "execution_count": 16,
   "id": "b6db7cf0",
   "metadata": {},
   "outputs": [
    {
     "data": {
      "image/png": "[encoded data removed]",
      "text/plain": [
       "<Figure size 600x400 with 1 Axes>"
      ]
     },
     "metadata": {
      "needs_background": "light"
     },
     "output_type": "display_data"
    }
   ],
   "source": [
    "fig, ax = plt.subplots()\n",
    "\n",
    "ax.plot(s, prob_gaussian, label=f\"Gaussian: {upper_lim_gauss:.2f}\")\n",
    "ax.plot(s, prob_poisson, label=f\"Poisson-Binomial: {upper_lim_poisson:.2f}\")\n",
    "ax.plot(s, prob_perfilado, label=f\"Perfilado: {upper_lim_perfilado:.2f}\")\n",
    "ax.axhline(1 - CL, color=\"k\")\n",
    "\n",
    "ax.legend(title=\"$s_{max}$\")\n",
    "ax.set(\n",
    "    xlabel=\"Parámetro s (señal)\",\n",
    "    ylabel=f\"Probabilidad $P(n_{{obs}}={n_obs} \\\\,|\\\\, s)$ < CL\",\n",
    ")\n",
    "\n",
    "plt.show()\n"
   ]
  }
 ],
 "metadata": {
  "jupytext": {
   "encoding": "# -*- coding: utf-8 -*-"
  },
  "kernelspec": {
   "display_name": "Python 3.9.7 64-bit ('mefe': conda)",
   "language": "python",
   "name": "python3"
  }
 },
 "nbformat": 4,
 "nbformat_minor": 5
}
